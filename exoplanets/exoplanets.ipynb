{
 "cells": [
  {
   "cell_type": "markdown",
   "id": "1beee564",
   "metadata": {},
   "source": [
    "# Exoplanet Discovery\n",
    "For the past 25+ years, NASA has used ground- and space-based methods to [identify exoplanets](https://exoplanets.nasa.gov/exep/about/missions-instruments) (planets outside of our solar system). In the past ten years in particular, campaigns like Kepler, K2, and TESS have produced an explosion of results. To date, approximately 4,400 exoplanets have been identified, and over 3,000 potential exoplanet candidates have been discovered. In this notebook, we will use Holoviews and Panel together with Astropy to visualize exoplanet discovery since 1996.\n"
   ]
  },
  {
   "cell_type": "code",
   "execution_count": null,
   "id": "93c92ce4",
   "metadata": {},
   "outputs": [],
   "source": [
    "import pandas as pd\n",
    "import holoviews as hv\n",
    "import panel as pn\n",
    "from colorcet import fire\n",
    "import hvplot.pandas\n",
    "\n",
    "pn.extension()"
   ]
  },
  {
   "cell_type": "markdown",
   "id": "fe10692a",
   "metadata": {},
   "source": [
    "# Loading data\n",
    "For this notebook, we will be loading our exoplanet data from three different CSV files: [stars](data/stars.csv), a [dataset of 257,000 stars](https://www.kaggle.com/solorzano/257k-gaia-dr2-stars?select=257k-gaiadr2-sources-with-photometry.csv) identified by the European Gaia space mission; [exoplanets](data/exoplanets.csv), a collection of 480 exoplanets obtained from the [NASA Exoplanet Archive](https://exoplanetarchive.ipac.caltech.edu/); and [candidates](data/candidates.csv), a collection of approximately 3,000 candidate exoplanets collated from the [Kepler](http://exoplanets.org/table?datasets=kepler) and [TESS](https://exofop.ipac.caltech.edu/tess/view_toi.php) campaigns. Note that the 480 exoplanets used in this example are the only ones of the 4,400 identified exoplanets to have both mass and radius recorded."
   ]
  },
  {
   "cell_type": "code",
   "execution_count": null,
   "id": "3f3ad720",
   "metadata": {},
   "outputs": [],
   "source": [
    "stars = pd.read_csv(\"data/stars.csv\")\n",
    "exoplanets = pd.read_csv(\"data/exoplanets.csv\")\n",
    "candidates = pd.read_csv(\"data/candidates.csv\")"
   ]
  },
  {
   "cell_type": "markdown",
   "id": "7cb91e13",
   "metadata": {},
   "source": [
    "If we were to use the entire ``stars`` dataframe in our plot, this program would run very slowly. Thus, we consider only the brightest stars (those with the G magnitude, abbreviated \"phot_g_mean_mag,\" over 11), and of those, we sample 10% using ``.sample(frac=0.1)``. Similarly, we sample 10% of the ``candidates`` dataframe, since it is much larger than the ``exoplanets``, and plotting the entire ``candidates`` dataframe would overshadow the confirmed points."
   ]
  },
  {
   "cell_type": "code",
   "execution_count": null,
   "id": "c87d5e13",
   "metadata": {},
   "outputs": [],
   "source": [
    "stars = stars[stars[\"phot_g_mean_mag\"]>11].sample(frac=0.1)\n",
    "candidates = candidates.sample(frac=0.1)"
   ]
  },
  {
   "cell_type": "markdown",
   "id": "bd074c00",
   "metadata": {},
   "source": [
    "# Converting coordinates\n",
    "Because our goal is to generate a map of the exoplanets and stars, we need a standardized coordinate system for all three of our dataframes. Here, we'll use the [Astropy](https://www.astropy.org/) package to perform coordinate transformations. The original datasets use an equatorial coordinate system, given by ``ra`` (right acension) and ``dec`` (declination), but the specific notation varies among the datasets, and equatorial coordinates are less commonly used to visualize space. We will convert to galactic coordinates, a spherical coordinate system centered at the sun. Points in the galactic coordinate system are represented by two values: longitude (abbreviated \"l\") and latitude (abbreviated \"b\").\n",
    "\n",
    "Using the Astropy ``SkyCoord`` function, we define two functions, ``eqtogalL`` and ``eqtogalB``, which convert equatorial coordinates to galactic coordinates. ``eqtogalL`` takes (``ra``, ``dec``) as an argument and produces the longitude ``l``, while ``eqtogalB`` takes (``ra``, ``dec``) and produces the latitude ``b``.\n",
    "\n",
    "After converting, we create new columns in each of our dataframes for latitude and longitude. Note that the size of the ``stars`` dataset means that converting to galactic coordinates can take up to a minute or two. To speed up the process, you can sample a smaller fraction of the stars in the previous step."
   ]
  },
  {
   "cell_type": "code",
   "execution_count": null,
   "id": "7e6d0d49",
   "metadata": {},
   "outputs": [],
   "source": [
    "from astropy import units as u\n",
    "from astropy.coordinates import SkyCoord\n",
    "\n",
    "def eqtogalL(a,b):\n",
    "    \"Convert right acension and declination to longitude\"\n",
    "    ret = SkyCoord(ra=a*u.degree,dec=b*u.degree,frame='icrs').galactic\n",
    "    return float(ret.to_string(\"decimal\").split( )[0])\n",
    "\n",
    "def eqtogalB(a,b):\n",
    "    \"Convert right acension and declination to latitude\"\n",
    "    ret = SkyCoord(ra=a*u.degree,dec=b*u.degree,frame='icrs').galactic\n",
    "    return float(ret.to_string(\"decimal\").split( )[1])\n",
    "\n",
    "stars['l'] = pd.Series(eqtogalL(a,b) for (a,b) in zip(stars[\"ra\"],stars[\"dec\"]))\n",
    "stars['b'] = pd.Series(eqtogalB(a,b) for (a,b) in zip(stars[\"ra\"],stars[\"dec\"]))\n",
    "\n",
    "exoplanets['l'] = pd.Series(eqtogalL(a,b) for (a,b) in zip(exoplanets[\"ra\"],exoplanets[\"dec\"]))\n",
    "exoplanets['b'] = pd.Series(eqtogalB(a,b) for (a,b) in zip(exoplanets[\"ra\"],exoplanets[\"dec\"]))\n",
    "\n",
    "\n",
    "candidates['l'] = pd.Series(eqtogalL(a,b) for (a,b) in zip(candidates[\"ra\"],candidates[\"dec\"]))\n",
    "candidates['b'] = pd.Series(eqtogalB(a,b) for (a,b) in zip(candidates[\"ra\"],candidates[\"dec\"]))"
   ]
  },
  {
   "cell_type": "markdown",
   "id": "cd9038bc",
   "metadata": {},
   "source": [
    "# The Goldilocks zone and the Tsiolkovsky rocket equation\n",
    "One of the methods used to determine which exoplanets could potentially support life is to check whether liquid water could exist there. For water to be present on the planet as liquid, the planet's temperature must be within a fairly narrow range, and therefore the planet must be within a certain distance of the nearest star. Exoplanets within this range are said to be in the \"Goldilocks zone.\"\n",
    "\n",
    "If intelligent life were to exist on one of these planets, would it be capable of space travel? If the hypothetical life forms used similar methods to humans — for example, hydrogen- and oxygen-powered chemical rockets — would they even be able to leave their planet? A heavier rocket requires exponentially more fuel, but more fuel means more mass. The Tsiolkovsky rocket equation makes this question more precise:\n",
    "\n",
    "$$\\Delta v = v_e\\ln\\left(\\frac{m_0}{m_f}\\right),$$\n",
    "\n",
    "where $\\Delta v$ is the [impulse per mass unit](https://en.wikipedia.org/wiki/Impulse_(physics)) required for the rocket to travel its course, $v_e$ is [effective exhaust velocity](https://en.wikipedia.org/wiki/Specific_impulse#Specific_impulse_as_effective_exhaust_velocity), $m_0$ is the initial mass of the rocket, and $m_f$ is the final mass of the rocket (here, equal to $m_0$ minus the mass of the fuel spent on the flight).\n",
    "\n",
    "To see the rocket equation in action, consider a planet of the same density as Earth with radius $R$ double Earth's and thus mass $M$ eight times Earth's. For the purposes of this example, we'll assume that $$\\Delta v = \\sqrt{\\frac{GM}{R}},$$ where $G\\approx 6.67\\cdot 10^{-11}$ (in reality, some complicating factors exist, but our formula works as an approximation at relatively low altitudes$^*$). Then\n",
    "\n",
    "$$\\Delta v = \\sqrt{\\frac{6.67\\cdot 10^{-11}\\cdot 4.78\\cdot10^{25}}{1.27\\cdot10^7}}\\approx 22407 \\frac{\\text{m}}{\\text{s}}.$$\n",
    "\n",
    "Using the [highest recorded exhaust velocity of a chemical rocket](https://en.wikipedia.org/wiki/Tripropellant_rocket#:~:text=In%20the%201960s%2C%20Rocketdyne%20fired,for%20a%20chemical%20rocket%20motor.), $5320\\frac{\\text{m}}{\\text{s}},$ and we'll calculate the approximate percent of the rocket's mass that would have to be fuel in order to propel the rocket to $250$ m$^*$:\n",
    "\n",
    "$$22407= 5320 \\ln\\left(\\frac{m_0}{m_f}\\right),$$\n",
    "\n",
    "so\n",
    "\n",
    "$$\\frac{m_0}{m_f}\\approx 67.5.$$ In other words, about $98.5\\%$ of the rocket's initial mass must be fuel. For comparison, the rocket with the highest initial-to-final mass ratio ever built was the [Soyuz-FG](https://en.wikipedia.org/wiki/Soyuz-FG) rocket, which was $91\\%$ fuel by mass. Moreover, we were very generous with the conditions used to compute the mass ratio to escape our imaginary planet. The exhaust velocity we used was only ever recorded for a highly corrosive, dangerous, expensive propellant that, with the current state of technology, is not feasible for use in space travel.\n",
    "\n",
    "$^*$We won't go into detail here, but the $\\Delta v$ calulation for $250$ m is derived from the [vis-viva equation](https://en.wikipedia.org/wiki/Vis-viva_equation)."
   ]
  },
  {
   "cell_type": "markdown",
   "id": "2841193d",
   "metadata": {},
   "source": [
    "# Filtering by feasaibility of space travel\n",
    "\n",
    "We can use the rocket equation to get an idea of which exoplanets might be the right size to allow for space travel. Let's assume that the hypothetical life forms on an exoplanet can make a chemical rocket with exhaust velocity at most $5320\\frac{\\text{m}}{\\text{s}}.$ Let's also say that they've figured out how to make rockets that are up to $95\\%$ fuel by mass (so $\\frac{m_0}{m_f}=20$). These two assumptions will allow us to make an educated guess of whether the mass and radius of the exoplanet would allow for space travel with these rockets:\n",
    "\n",
    "$$\\sqrt{\\frac{GM}{R}}\\approx \\Delta v \\leq 5320\\ln{20}.$$\n",
    "\n",
    "We can now define a function  ``deltav`` that approximates $\\Delta v$ for each exoplanet and returns ``True`` or ``False`` depending on whether that value is small enough. We'll then add a corresponding column ``escapable`` in our dataframe."
   ]
  },
  {
   "cell_type": "code",
   "execution_count": null,
   "id": "ba1afd21",
   "metadata": {},
   "outputs": [],
   "source": [
    "import math\n",
    "\n",
    "def deltav(m,r,h):\n",
    "    \"Determine whether delta-v is sufficiently small for feasible space travel with chemical rockets\"\n",
    "    G = 6.67*(10**(-11))\n",
    "    if math.sqrt(G*m/r)<=5320*math.log(20) and h == True:\n",
    "        return True\n",
    "    else:\n",
    "        return False\n",
    "    \n",
    "exoplanets['escapable'] = pd.Series(deltav(m,r,h) for (m,r,h) in zip(exoplanets[\"mass\"],exoplanets[\"radius\"],\n",
    "                                                                     exoplanets['habitable']))\n",
    "      \n",
    "# need to find some way to visualize this -- could color points or could have a filter option"
   ]
  },
  {
   "cell_type": "markdown",
   "id": "6e674546",
   "metadata": {},
   "source": [
    "# Defining widgets\n",
    "\n",
    "We will use Panel to define widgets for our dashboard: a slider representing discovery year, a checkbox determining whether to show unconfirmed exoplanets, a second checkbox determining whether to display only planets in the potentially habitable zone, and two dropdown menus to determine what the size and color of the points on the plot will represent."
   ]
  },
  {
   "cell_type": "code",
   "execution_count": null,
   "id": "bffad88e",
   "metadata": {},
   "outputs": [],
   "source": [
    "year_slider = pn.widgets.RangeSlider(name='Discovery year range', start=1996, end=2021)\n",
    "checkbox_candidates = pn.widgets.Checkbox(name='Show sampling of uncomfirmed exoplanets')\n",
    "checkbox_habitable = pn.widgets.Checkbox(name='Show only planets in potentially habitable zone')\n",
    "select_size = pn.widgets.Select(name='Size points by:', options={\"Earth radius\":\"radius\", \"Earth mass\":\"mass\"})\n",
    "select_color = pn.widgets.Select(name='Color points by:', options={\"Earth radius\":\"radius\", \"Earth mass\":\"mass\",\n",
    "                                                                   \"Temperature\": \"temperature\"})"
   ]
  },
  {
   "cell_type": "markdown",
   "id": "f1d27bfd",
   "metadata": {},
   "source": [
    "We'll also create a point representing the sun to orient users."
   ]
  },
  {
   "cell_type": "code",
   "execution_count": null,
   "id": "56af25e5",
   "metadata": {},
   "outputs": [],
   "source": [
    "d = {'b':[0],'l':[0]}\n",
    "origin = pd.DataFrame(data=d)"
   ]
  },
  {
   "cell_type": "markdown",
   "id": "67fc103e",
   "metadata": {},
   "source": [
    "# Filtering and plotting points\n",
    "To generate our plot, we'll need a function ``filter_df`` that takes the values of our widgets as input, uses them to filter the data, and outputs a plot of the relative positions of the exoplanets (and candidates, depending on whether the corresponding checkbox is selected) with the data points from ``stars`` as the background and a yellow point ``sun`` at (0,0) representing the sun.\n",
    "\n",
    "Note that when \"mass\" is selected to deterimine the size of the points, we scale the points to 1% of the mass using ``size_scale``; this way, planets with large masses do not overwhelm the plot but the relative size of the points retains its meaning."
   ]
  },
  {
   "cell_type": "code",
   "execution_count": null,
   "id": "2c79e653",
   "metadata": {},
   "outputs": [],
   "source": [
    "@pn.depends(year_slider, checkbox_candidates, checkbox_habitable, select_size, select_color)\n",
    "def filter_df(year_range, checkbox_candidates, checkbox_habitable, select_size, select_color):\n",
    "    exo_lower = exoplanets.disc_year>=year_range[0]\n",
    "    exo_upper = exoplanets.disc_year<=year_range[1]\n",
    "    hab = exoplanets.habitable == True\n",
    "    exo_filter = exo_lower & exo_upper\n",
    "    if checkbox_habitable:\n",
    "        exo_filter = exo_filter & hab\n",
    "    filtered_exoplanets = exoplanets[exo_filter]\n",
    "    star_background = (stars.hvplot.scatter(x='b',y='l',datashade=True,\n",
    "                                               color=\"phot_g_mean_mag\",cmap=fire,\n",
    "                                               colorbar=True))\n",
    "    overlay_points = (filtered_exoplanets.hvplot.scatter(x='b',y='l',color=select_color,\n",
    "                                               xlabel='longitude (deg)',\n",
    "                                               ylabel='latitude (deg)',\n",
    "                                               clabel=select_color).opts(cmap='blues',\n",
    "                                               size=hv.dim(select_size)))\n",
    "    # scaling by mass not working anymore, and if you select a different optoin for coloring, the sizing disappears\n",
    "    size_scale = 0.01 if select_size == \"mass\" else 1\n",
    "    overlay_points.opts(size = size_scale*hv.dim(select_size))\n",
    "    sun = origin.hvplot.scatter(x='b',y='l',size=60,color=\"yellow\")\n",
    "    layers = [star_background, sun, overlay_points]\n",
    "    if checkbox_candidates:\n",
    "        can_lower = candidates.year>=year_range[0]\n",
    "        can_upper = candidates.year<=year_range[1]\n",
    "        can_mask = can_lower & can_upper\n",
    "        filtered_candidates = candidates[can_mask]\n",
    "        candidate_points = (filtered_candidates.hvplot.scatter(x='b',y='l',\n",
    "                                                       size=30,color=\"#33FF36\",alpha=0.5).opts(cmap='greens',\n",
    "                                                                                               cnorm='log'))\n",
    "        layers.append(candidate_points)\n",
    "    return hv.Overlay(layers).collate().opts(bgcolor=\"black\")\n",
    "    "
   ]
  },
  {
   "cell_type": "markdown",
   "id": "14bac2bc",
   "metadata": {},
   "source": [
    "Then we'll define a funciton ``radius_mass`` that outputs a scatterplot of mass compared to radius of confirmed exoplanets, with points colored according to habitability."
   ]
  },
  {
   "cell_type": "code",
   "execution_count": null,
   "id": "5692d30e",
   "metadata": {},
   "outputs": [],
   "source": [
    "# would like some other simple plots -- ideas?\n",
    "def radius_mass():\n",
    "    habitable = exoplanets[exoplanets['habitable']==True]\n",
    "    uninhabitable = exoplanets[exoplanets['habitable']==False]\n",
    "    habitable_points = habitable.hvplot.scatter(x='mass',y='radius',color=\"red\",\n",
    "                                                label=\"Potentially habitable\",size=30)\n",
    "    uninhabitable_points = uninhabitable.hvplot.scatter(x='mass',y='radius',\n",
    "                                                        color=\"blue\",alpha=0.5,\n",
    "                                                        label=\"Uninhabitable\",size=10)\n",
    "    return uninhabitable_points*habitable_points"
   ]
  },
  {
   "cell_type": "markdown",
   "id": "ff0ab73d",
   "metadata": {},
   "source": [
    "# Putting it all together\n",
    "Finally, we create a panel from our widgets and plots to display the final dashboard."
   ]
  },
  {
   "cell_type": "code",
   "execution_count": null,
   "id": "3ca9aa22",
   "metadata": {
    "scrolled": true
   },
   "outputs": [],
   "source": [
    "filtered_view = pn.Row(\n",
    "    pn.Column(year_slider, select_size, select_color, checkbox_candidates, checkbox_habitable,\n",
    "              pn.panel(filter_df, width=800),pn.Row(pn.panel(radius_mass,width=400))))\n",
    "\n",
    "filtered_view"
   ]
  },
  {
   "cell_type": "code",
   "execution_count": null,
   "id": "3cef2fb1",
   "metadata": {},
   "outputs": [],
   "source": []
  }
 ],
 "metadata": {
  "kernelspec": {
   "display_name": "Python 3",
   "language": "python",
   "name": "python3"
  },
  "language_info": {
   "codemirror_mode": {
    "name": "ipython",
    "version": 3
   },
   "file_extension": ".py",
   "mimetype": "text/x-python",
   "name": "python",
   "nbconvert_exporter": "python",
   "pygments_lexer": "ipython3",
   "version": "3.7.10"
  }
 },
 "nbformat": 4,
 "nbformat_minor": 5
}
