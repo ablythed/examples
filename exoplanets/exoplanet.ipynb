{
 "cells": [
  {
   "cell_type": "code",
   "execution_count": null,
   "id": "64d3311c",
   "metadata": {},
   "outputs": [],
   "source": [
    "import numpy as np\n",
    "import pandas as pd\n",
    "import hvplot.pandas\n",
    "from datashader.utils import lnglat_to_meters\n",
    "import holoviews as hv\n",
    "from holoviews.element import tiles \n",
    "import matplotlib\n",
    "import plotly.express as px\n",
    "import panel as pn\n",
    "from IPython.display import HTML, display, clear_output\n",
    "from astropy import units as u\n",
    "from astropy.coordinates import SkyCoord\n",
    "from holoviews.plotting.util import process_cmap\n",
    "from colorcet import fire\n"
   ]
  },
  {
   "cell_type": "code",
   "execution_count": null,
   "id": "12df0cd7",
   "metadata": {},
   "outputs": [],
   "source": [
    "pn.extension()"
   ]
  },
  {
   "cell_type": "code",
   "execution_count": null,
   "id": "3705ebcf",
   "metadata": {},
   "outputs": [],
   "source": [
    "stars = pd.read_csv(\"data/stars.csv\")\n",
    "# sample from only brightest stars for background\n",
    "stars = stars[stars[\"phot_g_mean_mag\"]>11].sample(frac=0.1)"
   ]
  },
  {
   "cell_type": "code",
   "execution_count": null,
   "id": "d8a49fce",
   "metadata": {},
   "outputs": [],
   "source": [
    "exoplanets = pd.read_csv(\"data/exoplanets.csv\")\n",
    "candidates = pd.read_csv(\"data/candidates.csv\").sample(frac=0.05)\n",
    "\n",
    "# define conversion functions w/ astropy\n",
    "\n",
    "def eqtogalB(a,b):\n",
    "    ret = SkyCoord(ra=a*u.degree,dec=b*u.degree,frame='icrs').galactic\n",
    "    return float(ret.to_string(\"decimal\").split( )[0])\n",
    "\n",
    "def eqtogalL(a,b):\n",
    "    ret = SkyCoord(ra=a*u.degree,dec=b*u.degree,frame='icrs').galactic\n",
    "    return float(ret.to_string(\"decimal\").split( )[1])\n",
    "\n",
    "# add new columns with converted coordinates\n",
    "\n",
    "stars['b'] = pd.Series(eqtogalB(a,b) for (a,b) in zip(stars[\"ra\"],stars[\"dec\"]))\n",
    "stars['l'] = pd.Series(eqtogalL(a,b) for (a,b) in zip(stars[\"ra\"],stars[\"dec\"]))\n",
    "\n",
    "# note: this takes forever for stars\n",
    "\n",
    "exoplanets['b'] = pd.Series(eqtogalB(a,b) for (a,b) in zip(exoplanets[\"ra\"],exoplanets[\"dec\"]))\n",
    "exoplanets['l'] = pd.Series(eqtogalL(a,b) for (a,b) in zip(exoplanets[\"ra\"],exoplanets[\"dec\"]))\n",
    "\n",
    "\n",
    "candidates['b'] = pd.Series(eqtogalB(a,b) for (a,b) in zip(candidates[\"ra\"],candidates[\"dec\"]))\n",
    "candidates['l'] = pd.Series(eqtogalL(a,b) for (a,b) in zip(candidates[\"ra\"],candidates[\"dec\"]))\n",
    "\n"
   ]
  },
  {
   "cell_type": "code",
   "execution_count": null,
   "id": "3268459b",
   "metadata": {},
   "outputs": [],
   "source": [
    "def select_year(year=0):\n",
    "    row = exoplanets.loc[dfp[\"disc_year\"]==year]\n",
    "    return row.style.format({\"time\": lambda t: t.strftime(\"%c\")})"
   ]
  },
  {
   "cell_type": "code",
   "execution_count": null,
   "id": "6446c94c",
   "metadata": {},
   "outputs": [],
   "source": [
    "year_slider = pn.widgets.RangeSlider(name='Discovery year range', start=1996, end=2021)\n"
   ]
  },
  {
   "cell_type": "code",
   "execution_count": null,
   "id": "4f14ade7",
   "metadata": {},
   "outputs": [],
   "source": [
    "checkbox_unconfirmed = pn.widgets.Checkbox(name='Show sampling of uncomfirmed exoplanets')\n",
    "\n",
    "checkbox_habitable = pn.widgets.Checkbox(name='Show only planets in potentially habitable zone')\n"
   ]
  },
  {
   "cell_type": "code",
   "execution_count": null,
   "id": "393f8f0f",
   "metadata": {},
   "outputs": [],
   "source": [
    "select_size = pn.widgets.Select(name='Size points by:', options={\"Earth radius\":\"radius\", \"Earth mass\":\"mass\"})\n",
    "\n",
    "select_color = pn.widgets.Select(name='Color points by:', options={\"Earth radius\":\"radius\", \"Earth mass\":\"mass\", \"Temperature\": \"temperature\"})\n"
   ]
  },
  {
   "cell_type": "code",
   "execution_count": null,
   "id": "7dfcb8f6",
   "metadata": {},
   "outputs": [],
   "source": [
    "# put a dot for sun\n",
    "d = {'b':[0],'l':[0]}\n",
    "origin = pd.DataFrame(data=d)\n"
   ]
  },
  {
   "cell_type": "code",
   "execution_count": null,
   "id": "273fa217",
   "metadata": {
    "scrolled": false
   },
   "outputs": [],
   "source": [
    "# stars aren't really obvious for background -- why?\n",
    "@pn.depends(year_slider, checkbox_unconfirmed, checkbox_habitable, select_size, select_color)\n",
    "\n",
    "def filter_df(year_range, checkbox_unconfirmed, checkbox_habitable, select_size, select_color):\n",
    "    exo_lower = exoplanets.disc_year>=year_range[0]\n",
    "    exo_upper = exoplanets.disc_year<=year_range[1]\n",
    "    hab = exoplanets.habitable == True\n",
    "    \n",
    "    if checkbox_habitable:\n",
    "        exo_filter = exo_lower & exo_upper & hab\n",
    "    else:\n",
    "        exo_filter = exo_lower & exo_upper\n",
    "        \n",
    "    can_lower = candidates.year>=year_range[0]\n",
    "    can_upper = candidates.year<=year_range[1]\n",
    "    can_filter = can_lower & can_upper\n",
    "\n",
    "    if checkbox_unconfirmed:\n",
    "        star_background = (stars.hvplot.scatter(x='b',y='l',datashade=True,\n",
    "                                                       color=\"phot_g_mean_mag\",cmap=fire,\n",
    "                                                       colorbar=True))\n",
    "        overlay_points = (exoplanets[exo_filter].hvplot.scatter(x='b',y='l',color=select_color,\n",
    "                                                       xlabel='longitude (deg)',\n",
    "                                                       ylabel='latitude (deg)',\n",
    "                                                       clabel=select_color).opts(cmap='blues',\n",
    "                                                       size=hv.dim(select_size)))\n",
    "        \n",
    "        # there's probably a smarter way to make the circles smaller for mass\n",
    "        if select_size == \"mass\":\n",
    "            overlay_points.opts(size = 0.01*hv.dim(select_size))\n",
    "        candidate_points = (candidates[can_filter].hvplot.scatter(x='b',y='l',\n",
    "                                                       size=30,color=\"#33FF36\",alpha=0.5).opts(cmap='greens',\n",
    "                                                       cnorm='log',bgcolor=\"black\"))\n",
    "        return star_background*origin.hvplot.scatter(x='b',y='l',size=60,color=\"yellow\")*overlay_points*candidate_points\n",
    "    else:\n",
    "        overlay_points = (exoplanets[exo_filter].hvplot.scatter(x='b',y='l', color=select_color,\n",
    "                                                       xlabel='longitude (deg)',ylabel='latitude (deg)',\n",
    "                                                       clabel=select_color).opts(cmap='blues',\n",
    "                                                        size=hv.dim(select_size)))\n",
    "        star_background = (stars.hvplot.scatter(x='b',y='l',\n",
    "                                                       datashade=True,color=\"phot_g_mean_mag\",cmap=fire,\n",
    "                                                        colorbar=True)).opts(bgcolor=\"black\")\n",
    "        if select_size == \"mass\":\n",
    "            overlay_points.opts(size = 0.01*hv.dim(select_size))\n",
    "            \n",
    "        return star_background*origin.hvplot.scatter(x='b',y='l',size=60,color=\"yellow\")*overlay_points\n",
    "    \n",
    "    \n",
    "        \n",
    "# make habitable points more distinguishable and obvious\n",
    "def radius_mass():\n",
    "    habitable_points = exoplanets[exoplanets['habitable']==True].hvplot.scatter(x='mass',y='radius',color=\"red\",label=\"Potentially habitable\",size=30)\n",
    "    uninhabitable_points = exoplanets[exoplanets['habitable']==False].hvplot.scatter(x='mass',y='radius',color=\"blue\",alpha=0.5,label=\"Uninhabitable\",size=10)\n",
    "    return uninhabitable_points*habitable_points\n",
    "# what to do about all the data points without both mass and radius\n",
    "filtered_view = pn.Row(\n",
    "    pn.Column(year_slider, select_size, select_color, checkbox_unconfirmed, checkbox_habitable, pn.panel(filter_df, width=800),pn.Row(pn.panel(radius_mass,width=400)))\n",
    ")\n",
    "\n",
    "filtered_view\n",
    "\n"
   ]
  },
  {
   "cell_type": "code",
   "execution_count": null,
   "id": "58cc006d",
   "metadata": {},
   "outputs": [],
   "source": []
  }
 ],
 "metadata": {
  "kernelspec": {
   "display_name": "Python 3",
   "language": "python",
   "name": "python3"
  },
  "language_info": {
   "codemirror_mode": {
    "name": "ipython",
    "version": 3
   },
   "file_extension": ".py",
   "mimetype": "text/x-python",
   "name": "python",
   "nbconvert_exporter": "python",
   "pygments_lexer": "ipython3",
   "version": "3.9.5"
  }
 },
 "nbformat": 4,
 "nbformat_minor": 5
}
